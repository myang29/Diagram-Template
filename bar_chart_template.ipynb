{
 "cells": [
  {
   "cell_type": "markdown",
   "metadata": {},
   "source": [
    "# Bar Chart"
   ]
  },
  {
   "cell_type": "code",
   "execution_count": 3,
   "metadata": {},
   "outputs": [],
   "source": [
    "from bokeh.plotting import figure,show,output_file\n",
    "from bokeh.models import ColumnDataSource\n",
    "from bokeh.io import output_notebook\n",
    "from bokeh.transform import dodge\n",
    "from bokeh.core.properties import value\n",
    "\n",
    "\n",
    "import numpy as np\n",
    "import pandas as pd\n",
    "\n",
    "\n",
    "# output diagrams in notebook directly or generate html files (output_file(\"bar chart.html\"))\n",
    "output_notebook()\n",
    "\n",
    "df = pd.DataFrame({'2015':[2, 1, 4, 3, 2, 4],'2016':[5, 3, 3, 2, 4, 6], '2017':[3, 2, 4, 4, 5, 3]},\n",
    "                 index = ['Apples', 'Pears', 'Nectarines', 'Plums', 'Grapes', 'Strawberries'])\n",
    "\n",
    "fruits = df.index.tolist()   # x_axis\n",
    "years = df.columns.tolist()    # 系列名\n",
    "data = {'index':fruits}\n",
    "\n",
    "source = ColumnDataSource(data=df)\n",
    "\n",
    "fig = figure(x_range=fruits, y_range=(0, 10), plot_height=350, title=\"Fruit Counts by Year\",tools=\"\")\n",
    "\n",
    "\n",
    "fig.vbar(x=dodge('index', -0.25, range=fig.x_range), top='2015', width=0.2, source=source,color=\"#c9d9d3\", legend=value(\"2015\")) #用dodge的方法把3个柱状图拼到了一起\n",
    "fig.vbar(x=dodge('index',  0.0,  range=fig.x_range), top='2016', width=0.2, source=source,color=\"#718dbf\", legend=value(\"2016\"))\n",
    "fig.vbar(x=dodge('index',  0.25, range=fig.x_range), top='2017', width=0.2, source=source,color=\"#e84d60\", legend=value(\"2017\"))\n"
   ]
  },
  {
   "cell_type": "code",
   "execution_count": null,
   "metadata": {},
   "outputs": [],
   "source": []
  },
  {
   "cell_type": "code",
   "execution_count": null,
   "metadata": {},
   "outputs": [],
   "source": []
  }
 ],
 "metadata": {
  "kernelspec": {
   "display_name": "Python 3",
   "language": "python",
   "name": "python3"
  },
  "language_info": {
   "codemirror_mode": {
    "name": "ipython",
    "version": 3
   },
   "file_extension": ".py",
   "mimetype": "text/x-python",
   "name": "python",
   "nbconvert_exporter": "python",
   "pygments_lexer": "ipython3",
   "version": "3.6.5"
  }
 },
 "nbformat": 4,
 "nbformat_minor": 2
}
